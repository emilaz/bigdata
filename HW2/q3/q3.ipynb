{
 "cells": [
  {
   "cell_type": "code",
   "execution_count": 3,
   "metadata": {},
   "outputs": [],
   "source": [
    "import numpy as np\n",
    "import copy\n",
    "import matplotlib.pyplot as plt"
   ]
  },
  {
   "cell_type": "code",
   "execution_count": 4,
   "metadata": {},
   "outputs": [],
   "source": [
    "k = 20\n",
    "lamb = 0.1\n",
    "thresh = .0001"
   ]
  },
  {
   "cell_type": "code",
   "execution_count": 7,
   "metadata": {},
   "outputs": [],
   "source": [
    "def setup_qp(link,k):\n",
    "    q = dict()\n",
    "    p = dict()\n",
    "    with open(link) as  f:\n",
    "        for l in f:\n",
    "            info = [int(i) for i in l.split('\\t')]#read info\n",
    "            q[info[0]] = np.random.uniform(0,np.sqrt(5/k),(k,1))\n",
    "            p[info[1]] = np.random.uniform(0,np.sqrt(5/k),(k,1))\n",
    "    return q,p\n",
    "    \n",
    "def error(link,p,q, lamb):\n",
    "    f = open(link)\n",
    "    err =0\n",
    "    with open(link) as f:\n",
    "        for l in f:\n",
    "            info = [int(i) for i in l.split('\\t')]#read info\n",
    "            #print((info[2]-q[info[0]].T@p[info[1]])**2)\n",
    "            err += (info[2]-q[info[0]].T@p[info[1]])**2\n",
    "    err += lamb*sum([np.linalg.norm(p_u)**2 for p_u in p.values()])\n",
    "    err += lamb*sum([np.linalg.norm(q_i)**2 for q_i in q.values()])\n",
    "    return err\n",
    "\n",
    "def calc_eps(rating,q,q_ind,p,p_ind):\n",
    "    eps = 2*(rating - q[q_ind].T@p[p_ind])\n",
    "    return eps\n",
    "\n",
    "def q_update(eps,lam,l_rate,q,q_ind,p,p_ind,new_q):\n",
    "    new_q[q_ind] = q[q_ind] + l_rate*(p[p_ind]*eps - 2*lam*q[q_ind])\n",
    "\n",
    "def p_update(eps,lam,l_rate, q,q_ind,p,p_ind, new_p):\n",
    "    new_p[p_ind] = p[p_ind] + l_rate*(q[q_ind]*eps - 2*lam*p[p_ind])\n",
    "\n",
    "def update(lamb,l_rate,info,q,new_q,p,new_p):\n",
    "    eps = calc_eps(info[-1],q,info[0],p,info[1])\n",
    "    q_update(eps,lamb,l_rate,q,info[0],p,info[1],new_q)\n",
    "    p_update(eps,lamb,l_rate,q,info[0],p,info[1],new_p)\n"
   ]
  },
  {
   "cell_type": "code",
   "execution_count": 10,
   "metadata": {},
   "outputs": [],
   "source": [
    "q, p = setup_qp('./data/ratings.train.txt',k)"
   ]
  },
  {
   "cell_type": "code",
   "execution_count": 11,
   "metadata": {},
   "outputs": [
    {
     "name": "stdout",
     "output_type": "stream",
     "text": [
      "Iter 0, Error 92157.99\n",
      "Iter 1, Error 89740.00\n",
      "Iter 2, Error 85873.84\n",
      "Iter 3, Error 82002.13\n",
      "Iter 4, Error 78379.78\n",
      "Iter 5, Error 75031.02\n",
      "Iter 6, Error 72141.47\n",
      "Iter 7, Error 69760.31\n",
      "Iter 8, Error 67838.41\n",
      "Iter 9, Error 66293.11\n",
      "Iter 10, Error 65044.30\n",
      "Iter 11, Error 64026.84\n",
      "Iter 12, Error 63190.83\n",
      "Iter 13, Error 62498.38\n",
      "Iter 14, Error 61920.39\n",
      "Iter 15, Error 61434.29\n",
      "Iter 16, Error 61022.35\n",
      "Iter 17, Error 60670.60\n",
      "Iter 18, Error 60367.99\n",
      "Iter 19, Error 60105.73\n",
      "Iter 20, Error 59876.87\n",
      "Iter 21, Error 59675.83\n",
      "Iter 22, Error 59498.13\n",
      "Iter 23, Error 59340.17\n",
      "Iter 24, Error 59199.00\n",
      "Iter 25, Error 59072.22\n",
      "Iter 26, Error 58957.83\n",
      "Iter 27, Error 58854.19\n",
      "Iter 28, Error 58759.91\n",
      "Iter 29, Error 58673.81\n",
      "Iter 30, Error 58594.92\n",
      "Iter 31, Error 58522.38\n",
      "Iter 32, Error 58455.47\n",
      "Iter 33, Error 58393.57\n",
      "Iter 34, Error 58336.13\n",
      "Iter 35, Error 58282.69\n",
      "Iter 36, Error 58232.83\n",
      "Iter 37, Error 58186.20\n",
      "Iter 38, Error 58142.48\n",
      "Iter 39, Error 58101.39\n"
     ]
    }
   ],
   "source": [
    "new_q = q.copy()\n",
    "new_p = p.copy()\n",
    "#l_rates = [.01,.001,.05,.2,.0001]\n",
    "l_rate = .025\n",
    "# l_errors=[]\n",
    "# for l_rate in l_rates:\n",
    "q,p =setup_qp('./data/ratings.train.txt',k)\n",
    "errors=[]\n",
    "idx = 0\n",
    "while True:\n",
    "    new_q = q.copy()\n",
    "    new_p = p.copy()\n",
    "    with open('./data/ratings.train.txt') as f:\n",
    "        for l in f:# do the updates\n",
    "            info = [int(i) for i in l.split('\\t')]#read info\n",
    "            update(lamb,l_rate,info,q,new_q,p,new_p)\n",
    "            q = new_q.copy()\n",
    "            p = new_p.copy()\n",
    "    err = error('./data/ratings.train.txt',p,q,lamb)\n",
    "    errors+=[err]\n",
    "    print('Iter %d, Error %.2f' %(idx,err))\n",
    "    if (idx == 39):\n",
    "        break\n",
    "    idx+=1"
   ]
  },
  {
   "cell_type": "code",
   "execution_count": 12,
   "metadata": {},
   "outputs": [
    {
     "data": {
      "text/plain": [
       "Text(0.5, 1.0, 'Lambda=.1,k=20, Learning Rate .025')"
      ]
     },
     "execution_count": 12,
     "metadata": {},
     "output_type": "execute_result"
    },
    {
     "data": {
      "image/png": "[encoded data removed]",
      "text/plain": [
       "<Figure size 432x288 with 1 Axes>"
      ]
     },
     "metadata": {
      "needs_background": "light"
     },
     "output_type": "display_data"
    }
   ],
   "source": [
    "plt.plot(np.squeeze(errors))\n",
    "plt.xlabel('Iteration')\n",
    "plt.ylabel('Error')\n",
    "plt.title('Lambda=.1,k=20, Learning Rate .025')"
   ]
  },
  {
   "cell_type": "code",
   "execution_count": null,
   "metadata": {},
   "outputs": [],
   "source": []
  }
 ],
 "metadata": {
  "kernelspec": {
   "display_name": "Python 3",
   "language": "python",
   "name": "python3"
  },
  "language_info": {
   "codemirror_mode": {
    "name": "ipython",
    "version": 3
   },
   "file_extension": ".py",
   "mimetype": "text/x-python",
   "name": "python",
   "nbconvert_exporter": "python",
   "pygments_lexer": "ipython3",
   "version": "3.6.5"
  }
 },
 "nbformat": 4,
 "nbformat_minor": 2
}
