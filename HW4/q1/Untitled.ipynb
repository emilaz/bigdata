{
 "cells": [
  {
   "cell_type": "code",
   "execution_count": 1,
   "metadata": {},
   "outputs": [],
   "source": [
    "import numpy as np\n",
    "import matplotlib.pyplot as plt\n",
    "import time"
   ]
  },
  {
   "cell_type": "code",
   "execution_count": 2,
   "metadata": {},
   "outputs": [],
   "source": [
    "def get_features(link):\n",
    "    feats = []\n",
    "    f = open(link)\n",
    "    for l in f.readlines():\n",
    "        feats.append([float(b) for b in l.split(',')])\n",
    "    return np.array(feats)\n",
    "\n",
    "def get_labels(link):\n",
    "    labels = []\n",
    "    f=open(link)\n",
    "    for l in f.readlines():\n",
    "        labels += [float(l)]\n",
    "    return np.array(labels)\n",
    "\n",
    "\n",
    "def get_gradients(X,Y,w,b):\n",
    "    projections = Y * (X @ w + b)\n",
    "    matches = projections>=1 #these indicates all data points that are classified correctly\n",
    "    w_gradients = -Y[:,None] * X\n",
    "    w_gradients[matches]=0 #gradients for all correctly classified datapoints is 0\n",
    "    b_gradient = -Y\n",
    "    b_gradient[matches]=0\n",
    "    return w_gradients, b_gradient\n",
    "\n",
    "def single_update(X,Y,w,b,w_grad,b_grad,i,C,lr):\n",
    "    w_cost_gradient = w + C * w_grad[i,:]\n",
    "    b_cost_gradient = C * b_grad[i]\n",
    "    w_new = w - lr * w_cost_gradient\n",
    "    b_new = b - lr * b_cost_gradient\n",
    "    return w_new, b_new\n",
    "\n",
    "def update(X,Y,w,b,C,lr):\n",
    "    w_grad,b_grad = get_gradients(X,Y,w,b) #get the individual gradients\n",
    "    w_cost_gradient = (w + C * np.sum(w_grad,axis=0)) \n",
    "    b_cost_gradient = (C * np.sum(b_grad))\n",
    "    w_new = w - lr * w_cost_gradient\n",
    "    b_new = b - lr * b_cost_gradient\n",
    "    return w_new, b_new\n",
    "\n",
    "def minibatch_update(X,Y,w,b,w_grad,b_grad,C,lr,start,stop):\n",
    "    w_cost_gradient = w + C * np.sum(w_grad[start:stop,:],axis=0)\n",
    "    b_cost_gradient = C * np.sum(b_grad[start:stop])\n",
    "    w_new = w - lr * w_cost_gradient\n",
    "    b_new = b - lr * b_cost_gradient\n",
    "    return w_new, b_new\n",
    "\n",
    "def cost_function(X,Y,w,b,C):\n",
    "    classifications = 1 - Y * (X @ w +b)\n",
    "    classifications[classifications<0]=0\n",
    "    cost = .5 * np.sum(w**2) + C *np.sum(classifications)\n",
    "    return cost\n",
    "    \n",
    "\n",
    "def percent_diff(cost_old,cost_new):\n",
    "    diff = np.abs(cost_old-cost_new)*100/cost_old\n",
    "    return diff\n",
    "\n",
    "def abs_diff(cost_old,cost_new,diff_old):\n",
    "    perc = percent_diff(cost_old,cost_new)\n",
    "    diff = .5*diff_old + .5*perc\n",
    "    return diff"
   ]
  },
  {
   "cell_type": "code",
   "execution_count": 3,
   "metadata": {},
   "outputs": [],
   "source": [
    "X = get_features('./data/features.txt')\n",
    "Y = get_labels('./data/target.txt')"
   ]
  },
  {
   "cell_type": "code",
   "execution_count": 4,
   "metadata": {},
   "outputs": [],
   "source": [
    "#init stuff for batch gradient\n",
    "lr = 3e-7\n",
    "thresh = .025\n",
    "w = np.zeros(X.shape[1])\n",
    "C=100\n",
    "b = 0\n",
    "cost = cost_function(X,Y,w,b,C)"
   ]
  },
  {
   "cell_type": "code",
   "execution_count": 5,
   "metadata": {},
   "outputs": [],
   "source": [
    "time_sta = time.time()\n",
    "costs_batch=[cost]\n",
    "while True:\n",
    "    w,b = update(X,Y,w,b,C,lr)\n",
    "    new_cost = cost_function(X,Y,w,b,C)\n",
    "    diff = percent_diff(cost,new_cost)\n",
    "    cost=new_cost\n",
    "    costs_batch.append(cost)\n",
    "    if diff<thresh:\n",
    "        break\n",
    "time_batch = time.time()-time_sta"
   ]
  },
  {
   "cell_type": "code",
   "execution_count": 20,
   "metadata": {},
   "outputs": [],
   "source": [
    "#init stuff for batch gradient\n",
    "lr = .0001\n",
    "thresh = .001\n",
    "w = np.zeros(X.shape[1])\n",
    "C=100\n",
    "b = 0\n",
    "cost = cost_function(X,Y,w,b,C)\n",
    "diff = 0\n",
    "shuffler = np.random.choice(Y.shape[0],Y.shape[0],replace=False)\n",
    "X_sh = X[shuffler,:]\n",
    "Y_sh = Y[shuffler]\n"
   ]
  },
  {
   "cell_type": "code",
   "execution_count": 21,
   "metadata": {},
   "outputs": [],
   "source": [
    "i=0\n",
    "time_sta = time.time()\n",
    "costs_sto = [cost]\n",
    "while True:\n",
    "    w_grad,b_grad = get_gradients(X_sh,Y_sh,w,b)\n",
    "    w,b = single_update(X_sh,Y_sh,w,b,w_grad,b_grad,i,C,lr)\n",
    "    i = (i%(Y.shape[0]-1))+1\n",
    "    new_cost = cost_function(X_sh,Y_sh,w,b,C)\n",
    "    diff = abs_diff(cost,new_cost,diff)\n",
    "    cost = new_cost\n",
    "    costs_sto.append(cost)\n",
    "    if diff<thresh:\n",
    "        break\n",
    "time_sto = time.time()-time_sta"
   ]
  },
  {
   "cell_type": "code",
   "execution_count": 17,
   "metadata": {},
   "outputs": [],
   "source": [
    "#init stuff for minibatch gradient\n",
    "lr = 1e-5\n",
    "thresh = .01\n",
    "B=20\n",
    "w = np.zeros(X.shape[1])\n",
    "C=100\n",
    "bsize = 20\n",
    "cost = cost_function(X,Y,w,b,C)\n",
    "diff = 0\n",
    "shuffler = np.random.choice(Y.shape[0],Y.shape[0],replace=False)\n",
    "X_sh = X[shuffler]\n",
    "Y_sh = Y[shuffler]"
   ]
  },
  {
   "cell_type": "code",
   "execution_count": 18,
   "metadata": {},
   "outputs": [],
   "source": [
    "i=0\n",
    "time_sta = time.time()\n",
    "costs_mini = [cost]\n",
    "while True:\n",
    "    w_grad,b_grad = get_gradients(X_sh,Y_sh,w,b)\n",
    "    start = int(i*bsize)\n",
    "    stop = int((i+1)*bsize)\n",
    "    w,b = minibatch_update(X_sh,Y_sh,w,b,w_grad,b_grad,C,lr,start,stop)\n",
    "    i = (i+1)%(np.ceil((Y.shape[0]-1)/bsize))\n",
    "    new_cost = cost_function(X_sh,Y_sh,w,b,C)\n",
    "    diff = abs_diff(cost,new_cost,diff)\n",
    "    cost = new_cost\n",
    "    costs_mini.append(cost)\n",
    "    if diff<thresh:\n",
    "        break\n",
    "time_mini = time.time()-time_sta"
   ]
  },
  {
   "cell_type": "code",
   "execution_count": 22,
   "metadata": {},
   "outputs": [
    {
     "data": {
      "text/plain": [
       "Text(0.5, 1.0, 'Comparison of different stochastic gradient approaches')"
      ]
     },
     "execution_count": 22,
     "metadata": {},
     "output_type": "execute_result"
    },
    {
     "data": {
      "image/png": "[encoded data removed]",
      "text/plain": [
       "<Figure size 432x288 with 1 Axes>"
      ]
     },
     "metadata": {
      "needs_background": "light"
     },
     "output_type": "display_data"
    }
   ],
   "source": [
    "plt.plot(costs_batch,label='Batch')\n",
    "plt.plot(costs_mini, label='Minibatch')\n",
    "plt.plot(costs_sto,label='Stochastic')\n",
    "plt.xlabel('Iteration')\n",
    "plt.legend()\n",
    "plt.ylabel('Cost')\n",
    "plt.title('Comparison of different stochastic gradient approaches')"
   ]
  },
  {
   "cell_type": "code",
   "execution_count": 23,
   "metadata": {
    "scrolled": true
   },
   "outputs": [
    {
     "name": "stdout",
     "output_type": "stream",
     "text": [
      "Elapsed time batch gradient: 1.2876317501068115\n",
      "Elapsed time stochastic gradient: 9.9448823928833\n",
      "Elapsed time minibatch gradient: 6.61858868598938\n"
     ]
    }
   ],
   "source": [
    "print('Elapsed time batch gradient:',time_batch)\n",
    "print('Elapsed time stochastic gradient:',time_sto)\n",
    "print('Elapsed time minibatch gradient:',time_mini)"
   ]
  },
  {
   "cell_type": "code",
   "execution_count": 16,
   "metadata": {},
   "outputs": [],
   "source": [
    "###this is stuff for calculating the G scores\n",
    "\n",
    "def  dd(d,l,r):\n",
    "    return d*(1-(l**2+r**2))\n",
    "\n",
    "def g(d,l,r):\n",
    "    i_d = dd(100,.75,.25)\n",
    "    idl = dd(d,l,r)\n",
    "    idr= dd(100-d,l,r)\n",
    "    return i_d - (idl+idr)"
   ]
  },
  {
   "cell_type": "code",
   "execution_count": 22,
   "metadata": {},
   "outputs": [
    {
     "data": {
      "text/plain": [
       "13.419999999999987"
      ]
     },
     "execution_count": 22,
     "metadata": {},
     "output_type": "execute_result"
    }
   ],
   "source": [
    "g(70,.86,.14)"
   ]
  }
 ],
 "metadata": {
  "kernelspec": {
   "display_name": "Python 3",
   "language": "python",
   "name": "python3"
  },
  "language_info": {
   "codemirror_mode": {
    "name": "ipython",
    "version": 3
   },
   "file_extension": ".py",
   "mimetype": "text/x-python",
   "name": "python",
   "nbconvert_exporter": "python",
   "pygments_lexer": "ipython3",
   "version": "3.6.5"
  }
 },
 "nbformat": 4,
 "nbformat_minor": 2
}
