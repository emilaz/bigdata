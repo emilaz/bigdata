{
 "cells": [
  {
   "cell_type": "code",
   "execution_count": 1,
   "metadata": {},
   "outputs": [],
   "source": [
    "import numpy as np\n",
    "import matplotlib.pyplot as plt"
   ]
  },
  {
   "cell_type": "code",
   "execution_count": 50,
   "metadata": {},
   "outputs": [],
   "source": [
    "def get_true_counts(link):\n",
    "    f=open(link)\n",
    "    counts = dict()\n",
    "    for l in f.readlines():\n",
    "        curr_id, count = l.split('\\t')\n",
    "        counts[int(curr_id)]=int(count)\n",
    "    return counts\n",
    "\n",
    "def get_hash_params(link,n_hash=5):\n",
    "    f= open(link)\n",
    "    params = []\n",
    "    for idx,l in enumerate(f.readlines()):\n",
    "        params.append([int(b) for b in l.split('\\t')])\n",
    "        if idx+1 == n_hash:\n",
    "            break\n",
    "    return params\n",
    "\n",
    "def setup_buckets(funcs, n_buckets=10000):\n",
    "    buckets = dict()\n",
    "    for f in funcs:\n",
    "        buckets[tuple(f)] = np.zeros(n_buckets)\n",
    "    return buckets\n",
    "    \n",
    "\n",
    "def do_hash(f, val,p=123457,n_buckets=10000):\n",
    "    a,b = f\n",
    "    y = val % p\n",
    "    h_val = (a * y + b) %  p\n",
    "    return h_val % n_buckets\n",
    "        \n",
    "def add_to_buckets(funcs,val):\n",
    "    for f in funcs.keys():\n",
    "        idx = do_hash(f,val)\n",
    "        funcs[f][idx]+=1\n",
    "        \n",
    "def get_f_tilde(funcs,val): #defined as the minimum over the buckets val mapped to for each hash function\n",
    "    counts = []\n",
    "    for f in funcs.keys():\n",
    "        idx = do_hash(f,val)\n",
    "        counts += [funcs[f][idx]]\n",
    "    return min(counts)\n",
    "        \n",
    "def error(true, pred):\n",
    "    err = (pred-true)/true\n",
    "    return err\n",
    "    "
   ]
  },
  {
   "cell_type": "code",
   "execution_count": 51,
   "metadata": {},
   "outputs": [],
   "source": [
    "funcs = get_hash_params('./data/hash_params.txt')\n",
    "true_counts = get_true_counts('./data/counts.txt')\n"
   ]
  },
  {
   "cell_type": "code",
   "execution_count": 52,
   "metadata": {},
   "outputs": [],
   "source": [
    "total_count = sum(true_counts.values())"
   ]
  },
  {
   "cell_type": "code",
   "execution_count": 53,
   "metadata": {},
   "outputs": [],
   "source": [
    "buckets = setup_buckets(funcs)"
   ]
  },
  {
   "cell_type": "code",
   "execution_count": 54,
   "metadata": {},
   "outputs": [],
   "source": [
    "with open('./data/words_stream.txt')as f: #this fills our buckets\n",
    "    for line in f:\n",
    "        add_to_buckets(buckets,int(line))\n",
    "        "
   ]
  },
  {
   "cell_type": "code",
   "execution_count": 65,
   "metadata": {},
   "outputs": [],
   "source": [
    "abs_errors = []\n",
    "rel_errors= []\n",
    "for idx,count in true_counts.items(): #get the relative and absolute error here\n",
    "    f_til = get_f_tilde(buckets,idx)\n",
    "    abs_errors += [count/total_count]        \n",
    "    rel_errors += [error(count,f_til)]"
   ]
  },
  {
   "cell_type": "code",
   "execution_count": 91,
   "metadata": {},
   "outputs": [
    {
     "data": {
      "text/plain": [
       "8611393.0"
      ]
     },
     "execution_count": 91,
     "metadata": {},
     "output_type": "execute_result"
    }
   ],
   "source": [
    "max(rel_errors)"
   ]
  },
  {
   "cell_type": "code",
   "execution_count": 101,
   "metadata": {},
   "outputs": [
    {
     "data": {
      "text/plain": [
       "Text(0.5, 1.0, 'Relative Error vs. Exact Word Frequency')"
      ]
     },
     "execution_count": 101,
     "metadata": {},
     "output_type": "execute_result"
    },
    {
     "data": {
      "image/png": "[encoded data removed]",
      "text/plain": [
       "<Figure size 432x288 with 1 Axes>"
      ]
     },
     "metadata": {
      "needs_background": "light"
     },
     "output_type": "display_data"
    }
   ],
   "source": [
    "plt.xscale('log')\n",
    "plt.yscale('log')\n",
    "plt.scatter(abs_errors,rel_errors, s=4)\n",
    "plt.xlabel('Exact Word Frequency')\n",
    "plt.ylabel('Relative Error')\n",
    "plt.axhline(y=1, color='r', linestyle='--')\n",
    "plt.title('Relative Error vs. Exact Word Frequency')"
   ]
  }
 ],
 "metadata": {
  "kernelspec": {
   "display_name": "Python 3",
   "language": "python",
   "name": "python3"
  },
  "language_info": {
   "codemirror_mode": {
    "name": "ipython",
    "version": 3
   },
   "file_extension": ".py",
   "mimetype": "text/x-python",
   "name": "python",
   "nbconvert_exporter": "python",
   "pygments_lexer": "ipython3",
   "version": "3.6.5"
  }
 },
 "nbformat": 4,
 "nbformat_minor": 2
}
